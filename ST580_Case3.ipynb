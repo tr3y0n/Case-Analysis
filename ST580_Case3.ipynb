{
  "nbformat": 4,
  "nbformat_minor": 0,
  "metadata": {
    "colab": {
      "provenance": [],
      "machine_shape": "hm",
      "gpuType": "A100"
    },
    "kernelspec": {
      "name": "python3",
      "display_name": "Python 3"
    },
    "language_info": {
      "name": "python"
    },
    "accelerator": "GPU"
  },
  "cells": [
    {
      "cell_type": "code",
      "execution_count": 2,
      "metadata": {
        "id": "kajqpVIxT_SO"
      },
      "outputs": [],
      "source": [
        "import pathlib\n",
        "import time\n",
        "\n",
        "import ipywidgets\n",
        "import matplotlib.pyplot as plt\n",
        "import numpy as np\n",
        "import polars as pl\n",
        "import pandas as pd\n",
        "import seaborn as sns\n",
        "from sklearn.metrics.pairwise import cosine_similarity\n",
        "from sklearn.metrics.pairwise import euclidean_distances\n",
        "from sklearn.model_selection import train_test_split\n",
        "import torch\n",
        "import torch.nn as nn\n",
        "import torch.optim as optim\n",
        "from torch.utils.data import DataLoader, Dataset\n",
        "from tqdm.auto import tqdm"
      ]
    },
    {
      "cell_type": "code",
      "source": [
        "device = torch.device('cuda' if torch.cuda.is_available() else 'cpu')\n",
        "print(f\"Using device: {device}\")"
      ],
      "metadata": {
        "colab": {
          "base_uri": "https://localhost:8080/",
          "height": 0
        },
        "id": "goiSWG9LUECO",
        "outputId": "486d1519-c641-4a76-9348-dc9145a8114d"
      },
      "execution_count": 3,
      "outputs": [
        {
          "output_type": "stream",
          "name": "stdout",
          "text": [
            "Using device: cuda\n"
          ]
        }
      ]
    },
    {
      "cell_type": "markdown",
      "source": [
        "**Stage 1: Baseline Model**\n",
        "\n",
        "Data Preparation:\n",
        "- Loaded and normalized Fashion MNIST.\n",
        "- Split into train, validation, and test sets.\n",
        "\n",
        "Model Design:\n",
        "- Built a CNN with 2 convolutional layers (3x3 filters).\n",
        "- Added max pooling and fully connected layers.\n",
        "\n",
        "Training Setup:\n",
        "- Batch size: 64, Learning rate: 0.001. Epochs: 5.\n",
        "- Used Adam optimizer and cross-entropy loss.\n",
        "\n",
        "Training and Validation:\n",
        "- Tracked loss and accuracy on validation/test sets.\n",
        "\n",
        "Baseline Results:\n",
        "- Accuracy: 90.41%, Time: 63.83 sec (5 epochs)."
      ],
      "metadata": {
        "id": "bnUH8jGw0waU"
      }
    },
    {
      "cell_type": "code",
      "source": [
        "training_data_filepath = pathlib.Path('/content/drive/MyDrive/CODING FILES/fashion-mnist_train.csv')\n",
        "training_data = pl.read_csv(training_data_filepath)\n",
        "\n",
        "test_data_filepath = pathlib.Path('/content/drive/MyDrive/CODING FILES/fashion-mnist_test.csv')\n",
        "test_data = pl.read_csv(test_data_filepath)\n",
        "\n"
      ],
      "metadata": {
        "id": "nv4qHQOfURTO"
      },
      "execution_count": 4,
      "outputs": []
    },
    {
      "cell_type": "code",
      "source": [
        "train_features = training_data.drop(\n",
        "    'label'\n",
        "  ).with_columns(\n",
        "      pl.all()/255.0\n",
        "  )\n",
        "\n",
        "train_targets = training_data.select(\n",
        "    'label'\n",
        ").cast(\n",
        "    pl.Int32\n",
        ").to_dummies()\n",
        "\n",
        "X_train = train_features.to_numpy()\n",
        "y_train = train_targets.to_numpy()\n",
        "\n",
        "X_train, X_val, y_train, y_val = train_test_split(\n",
        "    X_train, y_train, test_size=0.2, random_state=42\n",
        ")\n",
        "\n",
        "test_features = test_data.drop(\n",
        "    'label'\n",
        "  ).with_columns(\n",
        "      pl.all()/255.0\n",
        "  )\n",
        "\n",
        "test_targets = test_data.select(\n",
        "    'label'\n",
        ").cast(\n",
        "    pl.Int32\n",
        ").to_dummies()\n",
        "\n",
        "X_test = test_features.to_numpy()\n",
        "y_test = test_targets.to_numpy()\n"
      ],
      "metadata": {
        "id": "yikdkA7YUlaP"
      },
      "execution_count": 5,
      "outputs": []
    },
    {
      "cell_type": "code",
      "source": [
        "class FashionMNISTDataset(Dataset):\n",
        "  def __init__(self, features, targets):\n",
        "    self.features = features\n",
        "    self.targets = targets\n",
        "\n",
        "  def __len__(self):\n",
        "    return len(self.features)\n",
        "\n",
        "  def __getitem__(self, idx):\n",
        "    features = self.features[idx].reshape(28,28).astype('float32')\n",
        "    targets = self.targets[idx].astype('float32')\n",
        "    return torch.tensor(features), torch.tensor(targets)"
      ],
      "metadata": {
        "id": "j9aeqRKzkDoI"
      },
      "execution_count": 6,
      "outputs": []
    },
    {
      "cell_type": "code",
      "source": [
        "batch_size = 64\n",
        "num_epochs = 10\n",
        "learning_rate = 0.001\n",
        "\n",
        "train_dataset = FashionMNISTDataset(X_train, y_train)\n",
        "val_dataset = FashionMNISTDataset(X_val, y_val)\n",
        "test_dataset = FashionMNISTDataset(X_test, y_test)"
      ],
      "metadata": {
        "id": "V9e3UUyfnpdC"
      },
      "execution_count": 7,
      "outputs": []
    },
    {
      "cell_type": "code",
      "source": [
        "class SimpleCNN(nn.Module):\n",
        "    def __init__(self):\n",
        "        super(SimpleCNN, self).__init__()\n",
        "        self.conv1 = nn.Conv2d(1, 32, kernel_size=3)\n",
        "        self.relu1 = nn.ReLU()\n",
        "        self.pool1 = nn.MaxPool2d(2, 2)\n",
        "        self.conv2 = nn.Conv2d(32, 64, kernel_size=3)\n",
        "        self.relu2 = nn.ReLU()\n",
        "        self.pool2 = nn.MaxPool2d(2, 2)\n",
        "        self.fc1_input_size = self._get_fc1_input_size(filter_size1, filter_size2, num_features2)\n",
        "        self.fc1 = nn.Linear(self.fc1_input_size, 128)\n",
        "        self.fc_relu = nn.ReLU()\n",
        "        self.fc2 = nn.Linear(128, 10)\n",
        "\n",
        "    def forward(self, x):\n",
        "          x = self.pool1(self.relu1(self.conv1(x)))\n",
        "          x = self.pool2(self.relu2(self.conv2(x)))\n",
        "          x = x.view(-1, 64 * 5 * 5)\n",
        "          x = self.fc_relu(self.fc1(x))\n",
        "          x = self.fc2(x)\n",
        "          return x"
      ],
      "metadata": {
        "id": "iFszbyien68T"
      },
      "execution_count": 8,
      "outputs": []
    },
    {
      "cell_type": "code",
      "source": [
        "num_epochs = 5\n",
        "batch_size = 64\n",
        "learning_rate = 0.001\n"
      ],
      "metadata": {
        "id": "X09Oig3Rp4n7"
      },
      "execution_count": 9,
      "outputs": []
    },
    {
      "cell_type": "code",
      "source": [
        "torch.manual_seed(0)\n",
        "\n",
        "train_loader = DataLoader(\n",
        "    dataset=train_dataset,\n",
        "    batch_size=batch_size,\n",
        "    shuffle=True,\n",
        ")\n",
        "val_loader = DataLoader(\n",
        "    dataset=val_dataset,\n",
        "    batch_size=batch_size,\n",
        "    shuffle=False,\n",
        ")\n",
        "test_loader = DataLoader(\n",
        "    dataset=test_dataset,\n",
        "    batch_size=batch_size,\n",
        "    shuffle=False,\n",
        ")\n",
        "\n",
        "model = SimpleCNN()\n",
        "criterion = nn.CrossEntropyLoss()\n",
        "optimizer = optim.Adam(model.parameters(), lr=learning_rate)\n",
        "\n",
        "start_time = time.time()\n",
        "\n",
        "training_history = []\n",
        "for epoch in range(num_epochs):\n",
        "    model.train()\n",
        "    running_training_loss = 0.0\n",
        "    for images, labels in train_loader:\n",
        "        images = images.unsqueeze(1)\n",
        "        optimizer.zero_grad()\n",
        "        outputs = model(images)\n",
        "        loss = criterion(outputs, labels)\n",
        "        loss.backward()\n",
        "        optimizer.step()\n",
        "        running_training_loss += loss.item()\n",
        "\n",
        "    training_loss = running_training_loss / len(train_loader)\n",
        "    training_history.append({\n",
        "        'epoch': epoch+1,\n",
        "        'phase': 'Training',\n",
        "        'loss': training_loss\n",
        "    })\n",
        "\n",
        "    model.eval()\n",
        "    running_val_loss = 0.0\n",
        "    with torch.no_grad():\n",
        "        for images, labels in val_loader:\n",
        "            images = images.unsqueeze(1)\n",
        "            outputs = model(images)\n",
        "            loss = criterion(outputs, labels)\n",
        "            running_val_loss += loss.item()\n",
        "\n",
        "    validation_loss = running_val_loss / len(val_loader)\n",
        "    training_history.append({\n",
        "        'epoch': epoch+1,\n",
        "        'phase': 'Validation',\n",
        "        'loss': validation_loss\n",
        "    })\n",
        "\n",
        "    print(f\"Epoch [{epoch+1}/{num_epochs}], Training Loss: {training_loss:.4f}, Validation Loss: {validation_loss:.4f}\")\n",
        "\n",
        "end_time = time.time()\n",
        "elapsed_time = end_time - start_time\n",
        "print(f' - Training for {num_epochs} epochs took {elapsed_time:.2f} seconds.')"
      ],
      "metadata": {
        "colab": {
          "base_uri": "https://localhost:8080/",
          "height": 0
        },
        "id": "4ciFjqQ2tSH_",
        "outputId": "f261adb2-2dde-47ec-cb0e-25ca28164a5e"
      },
      "execution_count": 10,
      "outputs": [
        {
          "output_type": "stream",
          "name": "stdout",
          "text": [
            "Epoch [1/5], Training Loss: 0.5583, Validation Loss: 0.4009\n",
            "Epoch [2/5], Training Loss: 0.3595, Validation Loss: 0.3397\n",
            "Epoch [3/5], Training Loss: 0.3028, Validation Loss: 0.3156\n",
            "Epoch [4/5], Training Loss: 0.2676, Validation Loss: 0.2700\n",
            "Epoch [5/5], Training Loss: 0.2428, Validation Loss: 0.2647\n",
            " - Training for 5 epochs took 63.83 seconds.\n"
          ]
        }
      ]
    },
    {
      "cell_type": "code",
      "source": [
        "model.to(device)\n",
        "\n",
        "model.eval()\n",
        "correct = 0\n",
        "total = 0\n",
        "with torch.no_grad():\n",
        "    for images, labels in test_loader:\n",
        "        images = images.unsqueeze(1).to(device)\n",
        "        labels = labels.to(device)\n",
        "        outputs = model(images)\n",
        "        _, predicted = torch.max(outputs.data, 1)\n",
        "        total += labels.size(0)\n",
        "        correct += (predicted == labels.argmax(axis=1)).sum().item()\n",
        "print(f\"Accuracy of the model on the test images: {100 * correct / total:.2f}%\")"
      ],
      "metadata": {
        "colab": {
          "base_uri": "https://localhost:8080/",
          "height": 0
        },
        "id": "HqMkZKNbvR2e",
        "outputId": "7ea86ab3-8e6a-4f64-8782-5d0328be5df3"
      },
      "execution_count": 12,
      "outputs": [
        {
          "output_type": "stream",
          "name": "stdout",
          "text": [
            "Accuracy of the model on the test images: 90.41%\n"
          ]
        }
      ]
    },
    {
      "cell_type": "markdown",
      "source": [
        "**Stage 2: Experimentation**\n",
        "\n",
        "Model Design:\n",
        "- Built ConfigurableCNN to test:\n",
        "  - Filter sizes: 3x3, 5x5\n",
        "  - Features: (16, 32), (32, 64), (64, 128)\n",
        "  - Batch sizes: 32, 64, 128\n",
        "\n",
        "Experimentation:\n",
        "- Ran nested loops over all configurations.\n",
        "- Trained each for 5 epochs and recorded accuracy and time.\n",
        "\n",
        "Performance Measurement:\n",
        "- Stored results in a DataFrame for comparison."
      ],
      "metadata": {
        "id": "1XAl6py908AE"
      }
    },
    {
      "cell_type": "code",
      "source": [
        "class ConfigurableCNN(nn.Module):\n",
        "    def __init__(self, filter_size1, filter_size2, num_features1, num_features2):\n",
        "        super(ConfigurableCNN, self).__init__()\n",
        "        self.conv1 = nn.Conv2d(1, num_features1, kernel_size=filter_size1)\n",
        "        self.relu1 = nn.ReLU()\n",
        "        self.pool1 = nn.MaxPool2d(2, 2)\n",
        "        self.conv2 = nn.Conv2d(num_features1, num_features2, kernel_size=filter_size2)\n",
        "        self.relu2 = nn.ReLU()\n",
        "        self.pool2 = nn.MaxPool2d(2, 2)\n",
        "        self.fc1_input_size = self._get_fc1_input_size(filter_size1, filter_size2, num_features2)\n",
        "        self.fc1 = nn.Linear(self.fc1_input_size, 128)\n",
        "        self.fc_relu = nn.ReLU()\n",
        "        self.fc2 = nn.Linear(128, 10)\n",
        "\n",
        "    def _get_fc1_input_size(self, filter_size1, filter_size2, num_features2):\n",
        "        input_size = 28\n",
        "        x = torch.randn(1, 1, input_size, input_size)\n",
        "        x = self.pool1(self.relu1(self.conv1(x)))\n",
        "        x = self.pool2(self.relu2(self.conv2(x)))\n",
        "\n",
        "        return x.view(1, -1).shape[1]\n",
        "\n",
        "    def forward(self, x):\n",
        "        x = self.pool1(self.relu1(self.conv1(x)))\n",
        "        x = self.pool2(self.relu2(self.conv2(x)))\n",
        "        x = x.view(-1, self.fc1_input_size)\n",
        "        x = self.fc_relu(self.fc1(x))\n",
        "        return self.fc2(x)"
      ],
      "metadata": {
        "id": "7SVeh-DuBDPl"
      },
      "execution_count": 21,
      "outputs": []
    },
    {
      "cell_type": "code",
      "source": [
        "filter_sizes = [(3, 3),(5, 5)]\n",
        "num_features_options = [(16, 32), (32, 64), (64, 128)]\n",
        "num_epochs = 5\n",
        "learning_rate = 0.001\n",
        "batch_sizes = [32, 64, 128]\n",
        "\n",
        "results = []\n",
        "\n",
        "for filter_size1, filter_size2 in filter_sizes:\n",
        "    for num_features1, num_features2 in num_features_options:\n",
        "        for batch_size in batch_sizes:\n",
        "            print(f\"Running experiment with: Filter Size: ({filter_size1}, {filter_size2}), \"\n",
        "                  f\"Features: ({num_features1}, {num_features2}), Batch Size: {batch_size}\")\n",
        "\n",
        "            model = ConfigurableCNN(filter_size1, filter_size2, num_features1, num_features2).to(device)\n",
        "            criterion = nn.CrossEntropyLoss()\n",
        "            optimizer = optim.Adam(model.parameters(), lr=learning_rate)\n",
        "\n",
        "            train_loader = DataLoader(train_dataset, batch_size=batch_size, shuffle=True)\n",
        "            val_loader = DataLoader(val_dataset, batch_size=batch_size, shuffle=False)\n",
        "\n",
        "            start_time = time.time()\n",
        "            for epoch in range(num_epochs):\n",
        "                model.train()\n",
        "                running_loss = 0.0\n",
        "\n",
        "                for images, labels in train_loader:\n",
        "                    images = images.unsqueeze(1).to(device)\n",
        "                    labels = labels.to(device)\n",
        "\n",
        "                    optimizer.zero_grad()\n",
        "                    outputs = model(images)\n",
        "                    loss = criterion(outputs, labels)\n",
        "                    loss.backward()\n",
        "                    optimizer.step()\n",
        "\n",
        "                    running_loss += loss.item()\n",
        "\n",
        "            model.eval()\n",
        "            correct = 0\n",
        "            total = 0\n",
        "            with torch.no_grad():\n",
        "                for images, labels in val_loader:\n",
        "                    images = images.unsqueeze(1).to(device)\n",
        "                    labels = labels.to(device)\n",
        "                    outputs = model(images)\n",
        "                    _, predicted = torch.max(outputs.data, 1)\n",
        "                    total += labels.size(0)\n",
        "                    correct += (predicted == labels.argmax(axis=1)).sum().item()\n",
        "\n",
        "            accuracy = 100 * correct / total\n",
        "            elapsed_time = time.time() - start_time\n",
        "\n",
        "            print(f\"Accuracy: {accuracy:.2f}%, Time: {elapsed_time:.2f} seconds\")\n",
        "\n",
        "            results.append({\n",
        "                'filter_size1': filter_size1,\n",
        "                'filter_size2': filter_size2,\n",
        "                'num_features1': num_features1,\n",
        "                'num_features2': num_features2,\n",
        "                'batch_size': batch_size,\n",
        "                'accuracy': accuracy,\n",
        "                'time': elapsed_time\n",
        "            })\n",
        "\n",
        "results_df = pd.DataFrame(results)\n",
        "print(results_df)\n"
      ],
      "metadata": {
        "colab": {
          "base_uri": "https://localhost:8080/",
          "height": 0
        },
        "id": "8TR-ge1V_1i6",
        "outputId": "e5886ddd-d7e2-4ff2-ebf5-faa449e3f67d"
      },
      "execution_count": 20,
      "outputs": [
        {
          "output_type": "stream",
          "name": "stdout",
          "text": [
            "Running experiment with: Filter Size: (3, 3), Features: (16, 32), Batch Size: 32\n",
            "Accuracy: 90.16%, Time: 23.93 seconds\n",
            "Running experiment with: Filter Size: (3, 3), Features: (16, 32), Batch Size: 64\n",
            "Accuracy: 89.03%, Time: 15.26 seconds\n",
            "Running experiment with: Filter Size: (3, 3), Features: (16, 32), Batch Size: 128\n",
            "Accuracy: 87.79%, Time: 10.45 seconds\n",
            "Running experiment with: Filter Size: (3, 3), Features: (32, 64), Batch Size: 32\n",
            "Accuracy: 90.86%, Time: 23.85 seconds\n",
            "Running experiment with: Filter Size: (3, 3), Features: (32, 64), Batch Size: 64\n",
            "Accuracy: 89.97%, Time: 15.05 seconds\n",
            "Running experiment with: Filter Size: (3, 3), Features: (32, 64), Batch Size: 128\n",
            "Accuracy: 88.92%, Time: 10.52 seconds\n",
            "Running experiment with: Filter Size: (3, 3), Features: (64, 128), Batch Size: 32\n",
            "Accuracy: 91.05%, Time: 24.43 seconds\n",
            "Running experiment with: Filter Size: (3, 3), Features: (64, 128), Batch Size: 64\n",
            "Accuracy: 89.28%, Time: 15.14 seconds\n",
            "Running experiment with: Filter Size: (3, 3), Features: (64, 128), Batch Size: 128\n",
            "Accuracy: 89.95%, Time: 10.59 seconds\n",
            "Running experiment with: Filter Size: (5, 5), Features: (16, 32), Batch Size: 32\n",
            "Accuracy: 89.82%, Time: 24.38 seconds\n",
            "Running experiment with: Filter Size: (5, 5), Features: (16, 32), Batch Size: 64\n",
            "Accuracy: 88.89%, Time: 15.14 seconds\n",
            "Running experiment with: Filter Size: (5, 5), Features: (16, 32), Batch Size: 128\n",
            "Accuracy: 88.14%, Time: 10.49 seconds\n",
            "Running experiment with: Filter Size: (5, 5), Features: (32, 64), Batch Size: 32\n",
            "Accuracy: 90.62%, Time: 24.51 seconds\n",
            "Running experiment with: Filter Size: (5, 5), Features: (32, 64), Batch Size: 64\n",
            "Accuracy: 90.31%, Time: 15.47 seconds\n",
            "Running experiment with: Filter Size: (5, 5), Features: (32, 64), Batch Size: 128\n",
            "Accuracy: 90.00%, Time: 10.65 seconds\n",
            "Running experiment with: Filter Size: (5, 5), Features: (64, 128), Batch Size: 32\n",
            "Accuracy: 90.62%, Time: 24.79 seconds\n",
            "Running experiment with: Filter Size: (5, 5), Features: (64, 128), Batch Size: 64\n",
            "Accuracy: 90.30%, Time: 15.62 seconds\n",
            "Running experiment with: Filter Size: (5, 5), Features: (64, 128), Batch Size: 128\n",
            "Accuracy: 88.32%, Time: 10.71 seconds\n",
            "    filter_size1  filter_size2  num_features1  num_features2  batch_size  \\\n",
            "0              3             3             16             32          32   \n",
            "1              3             3             16             32          64   \n",
            "2              3             3             16             32         128   \n",
            "3              3             3             32             64          32   \n",
            "4              3             3             32             64          64   \n",
            "5              3             3             32             64         128   \n",
            "6              3             3             64            128          32   \n",
            "7              3             3             64            128          64   \n",
            "8              3             3             64            128         128   \n",
            "9              5             5             16             32          32   \n",
            "10             5             5             16             32          64   \n",
            "11             5             5             16             32         128   \n",
            "12             5             5             32             64          32   \n",
            "13             5             5             32             64          64   \n",
            "14             5             5             32             64         128   \n",
            "15             5             5             64            128          32   \n",
            "16             5             5             64            128          64   \n",
            "17             5             5             64            128         128   \n",
            "\n",
            "     accuracy       time  \n",
            "0   90.158333  23.931970  \n",
            "1   89.033333  15.257215  \n",
            "2   87.791667  10.445727  \n",
            "3   90.858333  23.850352  \n",
            "4   89.975000  15.046007  \n",
            "5   88.925000  10.520370  \n",
            "6   91.050000  24.425261  \n",
            "7   89.275000  15.139005  \n",
            "8   89.950000  10.587882  \n",
            "9   89.816667  24.383075  \n",
            "10  88.891667  15.141848  \n",
            "11  88.141667  10.491455  \n",
            "12  90.625000  24.513335  \n",
            "13  90.308333  15.467753  \n",
            "14  90.000000  10.651548  \n",
            "15  90.625000  24.791078  \n",
            "16  90.300000  15.616773  \n",
            "17  88.316667  10.706260  \n"
          ]
        }
      ]
    },
    {
      "cell_type": "code",
      "source": [
        "import matplotlib.pyplot as plt\n",
        "import seaborn as sns"
      ],
      "metadata": {
        "id": "Jikjl20YXcju"
      },
      "execution_count": 22,
      "outputs": []
    },
    {
      "cell_type": "code",
      "source": [
        "fig, axes = plt.subplot_mosaic(\n",
        "    [\n",
        "        ['Filter_Size',\n",
        "         'Batch_Size',\n",
        "         'Features']\n",
        "    ],\n",
        "    figsize=(18, 6)\n",
        ")\n",
        "\n",
        "batch_filter_data = results_df.pivot_table(\n",
        "    values='accuracy',\n",
        "    index='filter_size1',\n",
        "    columns='batch_size'\n",
        ")\n",
        "\n",
        "sns.heatmap(\n",
        "    batch_filter_data,\n",
        "    annot=True,\n",
        "    cmap='YlGnBu',\n",
        "    fmt=\".2f\",\n",
        "    ax=axes['Filter_Size']\n",
        ")\n",
        "axes['Filter_Size'].set_title('Accuracy: Filter Size vs Batch Size')\n",
        "axes['Filter_Size'].set_xlabel('Batch Size')\n",
        "axes['Filter_Size'].set_ylabel('Filter Size (Conv1)')\n",
        "\n",
        "features_batch_data = results_df.pivot_table(\n",
        "    values='accuracy',\n",
        "    index='num_features1',\n",
        "    columns='batch_size'\n",
        ")\n",
        "\n",
        "sns.heatmap(\n",
        "    features_batch_data,\n",
        "    annot=True,\n",
        "    cmap='YlOrRd',\n",
        "    fmt=\".2f\",\n",
        "    ax=axes['Batch_Size']\n",
        ")\n",
        "axes['Batch_Size'].set_title('Accuracy: Features vs Batch Size')\n",
        "axes['Batch_Size'].set_xlabel('Batch Size')\n",
        "axes['Batch_Size'].set_ylabel('Features (Conv1)')\n",
        "\n",
        "features_filter_data = results_df.pivot_table(\n",
        "    values='accuracy',\n",
        "    index='num_features1',\n",
        "    columns='filter_size1'\n",
        ")\n",
        "\n",
        "sns.heatmap(\n",
        "    features_filter_data,\n",
        "    annot=True,\n",
        "    cmap='Blues',\n",
        "    fmt=\".2f\",\n",
        "    ax=axes['Features']\n",
        ")\n",
        "axes['Features'].set_title('Accuracy: Features vs Filter Size')\n",
        "axes['Features'].set_xlabel('Filter Size (Conv1)')\n",
        "axes['Features'].set_ylabel('Features (Conv1)')\n",
        "\n",
        "plt.tight_layout()\n",
        "plt.show()\n"
      ],
      "metadata": {
        "colab": {
          "base_uri": "https://localhost:8080/",
          "height": 256
        },
        "id": "jPEaGNs5cZsG",
        "outputId": "35c8ccde-8ee4-4da7-8b8e-af73f857fbb6"
      },
      "execution_count": 33,
      "outputs": [
        {
          "output_type": "display_data",
          "data": {
            "text/plain": [
              "<Figure size 1800x600 with 6 Axes>"
            ],
            "image/png": "[encoded data removed]"
          },
          "metadata": {}
        }
      ]
    },
    {
      "cell_type": "markdown",
      "source": [
        "**Stage 3: Analysis**\n",
        "\n",
        "***Baseline Results:***\n",
        "*   Accuracy on the test set: 90.41%\n",
        "*   Training Time: 63.83 seconds for 5 Epochs\n",
        "\n",
        "***Experimentation Process:***\n",
        "\n",
        "Filter Sizes:\n",
        "\n",
        "- 3x3 (same as baseline)\n",
        "- 5x5 (increased size)\n",
        "\n",
        "Number of Features (Output Channels):\n",
        "- Halved: (16, 32)\n",
        "- Same as baseline: (32, 64)\n",
        "- Increased: (64, 128)\n",
        "\n",
        "Batch Sizes:\n",
        "- 32\n",
        "- 64\n",
        "- 128\n",
        "\n",
        "Filter Size:\n",
        "- 3x3 filters offered better performance with shorter training times.\n",
        "- 5x5 filters showed minimal accuracy improvement but increased computational time due to higher complexity.\n",
        "\n",
        "Features:\n",
        "- Reducing features to (16, 32) lowered accuracy (87-89%).\n",
        "- Increasing features to (64, 128) slightly improved accuracy (up to 91.05%) but increased training time significantly.\n",
        "- The baseline (32, 64) strikes the best balance.\n",
        "\n",
        "Batch Size:\n",
        "- Batch size 32 gave marginally higher accuracy but at the cost of longer training time.\n",
        "- Batch size 128 reduced time but resulted in lower accuracy.\n",
        "- Batch size 64 provided the optimal trade-off between accuracy and speed.\n",
        "\n",
        "\n",
        "\n",
        "\n",
        "\n",
        "\n",
        "\n"
      ],
      "metadata": {
        "id": "5Jl7Jm2yjlRI"
      }
    }
  ]
}